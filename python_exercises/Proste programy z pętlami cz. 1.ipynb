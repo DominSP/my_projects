{
 "cells": [
  {
   "cell_type": "code",
   "execution_count": 11,
   "metadata": {},
   "outputs": [
    {
     "name": "stdout",
     "output_type": "stream",
     "text": [
      "1\n",
      "1\n",
      "2\n",
      "3\n",
      "5\n",
      "8\n",
      "13\n",
      "21\n",
      "34\n",
      "55\n",
      "89\n",
      "144\n",
      "233\n",
      "377\n",
      "610\n",
      "987\n",
      "1597\n",
      "2584\n",
      "4181\n",
      "6765\n",
      "10946\n",
      "17711\n",
      "28657\n",
      "46368\n",
      "75025\n",
      "121393\n",
      "196418\n",
      "317811\n",
      "514229\n",
      "832040\n"
     ]
    }
   ],
   "source": [
    "#Zadanie 1. Proszę napisać program wypisujący elementy ciągu Fibonacciego mniejsze od miliona.\n",
    "a = 1\n",
    "b = 1\n",
    "while a < 1000000:\n",
    "    print(a)\n",
    "    a, b = b, a+b"
   ]
  },
  {
   "cell_type": "code",
   "execution_count": 2,
   "metadata": {},
   "outputs": [
    {
     "name": "stdout",
     "output_type": "stream",
     "text": [
      "istnieje spojny podciag\n"
     ]
    }
   ],
   "source": [
    "#Zadanie 3. Proszę napisać program sprawdzający czy istnieje spójny podciąg ciągu Fibonacciego o zadanej sumie\n",
    "n = int(input())\n",
    "suma = 0\n",
    "a = 1\n",
    "b = 1\n",
    "while suma < n:\n",
    "    suma += a\n",
    "    a, b = b, a+b\n",
    "c = 1\n",
    "d = 1\n",
    "while suma > n:\n",
    "    suma-=c\n",
    "    c, d = d, c+d\n",
    "if suma == n:\n",
    "    print('istnieje spojny podciag')\n",
    "else:\n",
    "    print('nie istnieje spojny podciag')"
   ]
  },
  {
   "cell_type": "code",
   "execution_count": 2,
   "metadata": {},
   "outputs": [
    {
     "name": "stdout",
     "output_type": "stream",
     "text": [
      "1.7320508100147274 1.7320508051230272 3.0\n"
     ]
    }
   ],
   "source": [
    "# 5. Proszę napisać program wyznaczający pierwiastek kwadratowy ze wzoru Newtona.\n",
    "#np. sqrt(3)\n",
    "pole = 3\n",
    "a = 1\n",
    "b = 3\n",
    "epsilon =0.0000001\n",
    "while abs(a - b) > epsilon :\n",
    "    a = (a + b) / 2\n",
    "    b = pole / a\n",
    "print(a, b, a*b)"
   ]
  },
  {
   "cell_type": "code",
   "execution_count": 10,
   "metadata": {},
   "outputs": [
    {
     "name": "stdout",
     "output_type": "stream",
     "text": [
      "a=4  -1768\n",
      "b=5  1101\n",
      "4.832455635070801 0.0018536462691827182\n"
     ]
    }
   ],
   "source": [
    "# Zadanie 6. Proszę napisać program rozwiązujący równanie x^x = 2020 metodą bisekcji, w przedziale [4,5]\n",
    "def f(x):\n",
    "    return x**x - 2024\n",
    "\n",
    "a = 4\n",
    "b = 6\n",
    "print (\"a=4 \", f(4))\n",
    "print(\"b=5 \", f(5))\n",
    "epsilon_x = 0.000001\n",
    "epsilon_y = 0.000001\n",
    "\n",
    "while True:\n",
    "    x_0 = (a + b)/2\n",
    "    f_x_0 = f(x_0)\n",
    "    if abs(a - x_0) < epsilon_x :\n",
    "        i +=1\n",
    "        print(x_0, f_x_0)\n",
    "        break\n",
    "    else:\n",
    "        if abs(f_x_0) < epsilon_y :\n",
    "            print(x_0, f_x_0)\n",
    "            break\n",
    "        else :\n",
    "            if f(a) * f_x_0 < 0 :\n",
    "                b = x_0\n",
    "            elif f(b) * f_x_0 < 0 :\n",
    "                a = x_0"
   ]
  },
  {
   "cell_type": "code",
   "execution_count": 2,
   "metadata": {},
   "outputs": [
    {
     "name": "stdout",
     "output_type": "stream",
     "text": [
      "jest to liczba pierwsza\n"
     ]
    }
   ],
   "source": [
    "#Zadanie 8. Proszę napisać program sprawdzający czy zadana liczba jest pierwszą.\n",
    "a = 754367\n",
    "if (a == 2):\n",
    "    print(\"jest to liczba pierwsza\")\n",
    "else:\n",
    "    if(a == 1 or a % 2 == 0):\n",
    "        print('nie jest to liczba pierwsza')\n",
    "    else:\n",
    "        i = 3\n",
    "        while i < a/2:\n",
    "            if (a % i == 0) :\n",
    "                print('nie jest to liczba pierwsza, dzielnik ', i)\n",
    "                break\n",
    "            else: i+=2\n",
    "        if i > a/2-5:\n",
    "            print(\"jest to liczba pierwsza\")"
   ]
  },
  {
   "cell_type": "code",
   "execution_count": 5,
   "metadata": {},
   "outputs": [
    {
     "data": {
      "text/plain": [
       "2.449489742783178"
      ]
     },
     "execution_count": 5,
     "metadata": {},
     "output_type": "execute_result"
    }
   ],
   "source": [
    "import math\n",
    "math.isqrt(6)\n",
    "math.sqrt(6)"
   ]
  },
  {
   "cell_type": "code",
   "execution_count": 13,
   "metadata": {},
   "outputs": [
    {
     "name": "stdout",
     "output_type": "stream",
     "text": [
      "liczby są zaprzyjaźnione\n"
     ]
    }
   ],
   "source": [
    "#Zadanie 11. Proszę napisać program wyszukujący liczby zaprzyjaźnione mniejsze od miliona\n",
    "import math\n",
    "a = 220\n",
    "b = 284\n",
    "\n",
    "def suma_dzielnikow(liczba):\n",
    "    suma = 1\n",
    "    for i in range(2, liczba):\n",
    "        if (liczba % i == 0) :\n",
    "            suma += i\n",
    "    return suma\n",
    "\n",
    "if a == suma_dzielnikow(284) or b == suma_dzielnikow(220):\n",
    "    print(\"liczby są zaprzyjaźnione\")"
   ]
  },
  {
   "cell_type": "code",
   "execution_count": 19,
   "metadata": {},
   "outputs": [
    {
     "name": "stdout",
     "output_type": "stream",
     "text": [
      "21\n",
      "[1, 3, 7, 21]\n",
      "3\n"
     ]
    }
   ],
   "source": [
    "#Zadanie 12. Proszę napisać program wyznaczający największy wspólny dzielnik 3 zadanych liczb.\n",
    "def dzielniki(liczba):\n",
    "    dziel = [1]\n",
    "    for i in range(2, liczba+1):\n",
    "        if (liczba % i == 0) :\n",
    "            dziel.append(i)\n",
    "    return dziel\n",
    "\n",
    "a = 24\n",
    "b = 42\n",
    "c = 21\n",
    "\n",
    "def minimum(liczba1, liczba2, liczba3):\n",
    "    if liczba1 < liczba2:\n",
    "        min = liczba1\n",
    "        if min > liczba3:\n",
    "            min = liczba3\n",
    "    else:\n",
    "        min = liczba2\n",
    "        if min > liczba3:\n",
    "            min = liczba3\n",
    "    return min\n",
    "\n",
    "min = minimum(a,b,c)\n",
    "print(min)\n",
    "\n",
    "dziel_min = dzielniki(min)\n",
    "print(dziel_min)\n",
    "\n",
    "i = len(dziel_min)-1\n",
    "while i >= 0:\n",
    "    if a % dziel_min[i] == 0 and b % dziel_min[i] == 0 and c % dziel_min[i] == 0 :\n",
    "        print(dziel_min[i])\n",
    "        break\n",
    "    else:\n",
    "        i -= 1\n"
   ]
  },
  {
   "cell_type": "code",
   "execution_count": 38,
   "metadata": {},
   "outputs": [
    {
     "name": "stdout",
     "output_type": "stream",
     "text": [
      "0.7071067811865476 0.7071067811865476\n",
      "0.6366197723675812\n",
      "liczba pi wynosi:  3.141592653589794\n"
     ]
    }
   ],
   "source": [
    "#Zadanie 15. Nieskończony iloczyn √0.5 ∗p0.5 + 0.5 ∗√0.5 ∗q0.5 + 0.5 ∗p0.5 + 0.5 ∗√0.5 ∗ ... ma wartość 2/π.\n",
    "# Proszę napisać program korzystający z tej zależności i wyznaczający wartość π.\n",
    "a = math.sqrt(0.5)\n",
    "iloczyn = a\n",
    "#print(a, iloczyn)\n",
    "while abs( iloczyn -  iloczyn * math.sqrt( 0.5 + 0.5 * a)) > 0.00000000000000000001:\n",
    "    b = math.sqrt( 0.5 + 0.5 * a)\n",
    "    iloczyn = iloczyn * b\n",
    "    a = b\n",
    "#print(iloczyn)\n",
    "print(\"liczba pi wynosi: \", 2/iloczyn)"
   ]
  },
  {
   "cell_type": "code",
   "execution_count": 41,
   "metadata": {},
   "outputs": [
    {
     "name": "stdout",
     "output_type": "stream",
     "text": [
      "3.979057207896392 3.9790572078963904 3.979057207896393 63.0\n",
      "pierwiatek trzeciego stopnia z  63  to  3.979\n"
     ]
    }
   ],
   "source": [
    "#Zadanie 18. Proszę zmodyfikować wzór Newtona aby program z zadania 5 obliczał pierwiastek stopnia 3.\n",
    "objetosc = 63 #liczba z której liczony jest pierwiastek\n",
    "a = 1\n",
    "b = 7\n",
    "c = 9\n",
    "epsilon = 0.0000000000001\n",
    "while abs(a - b) > epsilon and abs(a - c) > epsilon :\n",
    "    a = (a + b + c) / 3\n",
    "    pole = objetosc / a\n",
    "    b = (b + c) / 2\n",
    "    c = pole / b\n",
    "print(a, b, c, a*b*c)\n",
    "print(\"pierwiatek trzeciego stopnia z \", objetosc, \" to \", round(a,3))"
   ]
  },
  {
   "cell_type": "code",
   "execution_count": 44,
   "metadata": {},
   "outputs": [
    {
     "name": "stdout",
     "output_type": "stream",
     "text": [
      "3.7182818284590455\n"
     ]
    }
   ],
   "source": [
    "#Zadanie 19. Proszę napisać program wyznaczający wartość liczby e korzystając z zależności: e = 1/0! + 1/1! + 1/2! + 1/3! + ...\n",
    "def silnia(liczba):\n",
    "    if liczba == 0 or liczba == 1:\n",
    "        return 1\n",
    "    else:\n",
    "        silnia = 1\n",
    "        while liczba > 0:\n",
    "            silnia = silnia * liczba\n",
    "            liczba -= 1\n",
    "        return silnia\n",
    "i = 0\n",
    "e = 1 / silnia(i)\n",
    "while abs( e -  e + 1 / silnia(i) ) > 0.000000000000001:\n",
    "    e += 1 / silnia(i)\n",
    "    i += 1\n",
    "print(e)"
   ]
  },
  {
   "cell_type": "code",
   "execution_count": 45,
   "metadata": {},
   "outputs": [
    {
     "name": "stdout",
     "output_type": "stream",
     "text": [
      "Średnia arytmetyczno-geometryczna liczb 24 i 6 wynosi: 13.458171481706055\n"
     ]
    }
   ],
   "source": [
    "#zad 20\n",
    "import math\n",
    "\n",
    "def srednia_arytmetyczno_geometryczna(a0, b0, epsilon=1e-10):\n",
    "    a_n = a0\n",
    "    b_n = b0\n",
    "    \n",
    "    while abs(a_n - b_n) > epsilon:\n",
    "        # Obliczamy następne wyrazy ciągów\n",
    "        a_next = math.sqrt(a_n * b_n)\n",
    "        b_next = (a_n + b_n) / 2.0\n",
    "        \n",
    "        # Aktualizujemy wartości\n",
    "        a_n, b_n = a_next, b_next\n",
    "    \n",
    "    # Zwracamy wartość graniczną\n",
    "    return a_n\n",
    "\n",
    "# Przykład użycia\n",
    "a0 = 24\n",
    "b0 = 6\n",
    "wynik = srednia_arytmetyczno_geometryczna(a0, b0)\n",
    "print(f\"Średnia arytmetyczno-geometryczna liczb {a0} i {b0} wynosi: {wynik}\")\n"
   ]
  }
 ],
 "metadata": {
  "kernelspec": {
   "display_name": "base",
   "language": "python",
   "name": "python3"
  },
  "language_info": {
   "codemirror_mode": {
    "name": "ipython",
    "version": 3
   },
   "file_extension": ".py",
   "mimetype": "text/x-python",
   "name": "python",
   "nbconvert_exporter": "python",
   "pygments_lexer": "ipython3",
   "version": "3.10.9"
  }
 },
 "nbformat": 4,
 "nbformat_minor": 2
}
