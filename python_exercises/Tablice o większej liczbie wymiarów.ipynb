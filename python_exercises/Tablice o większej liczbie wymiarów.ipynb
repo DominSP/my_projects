{
 "cells": [
  {
   "cell_type": "code",
   "execution_count": null,
   "metadata": {},
   "outputs": [
    {
     "name": "stdout",
     "output_type": "stream",
     "text": [
      "[1, 2, 3, 4, 5]\n",
      "[16, 17, 18, 19, 6]\n",
      "[15, 24, 25, 20, 7]\n",
      "[14, 23, 22, 21, 8]\n",
      "[13, 12, 11, 10, 9]\n"
     ]
    }
   ],
   "source": [
    "# Zadanie 92. Dana jest tablica T[N][N]. Proszę napisać funkcję wypełniającą tablicę kolejnymi liczbami naturalnymi po spirali.\n",
    "\n",
    "def fill_spiral(N):\n",
    "    T = [[0] * N for _ in range(N)]\n",
    "    directions = [(0, 1), (1, 0), (0, -1), (-1, 0)]\n",
    "    dir = 0\n",
    "    current_value = 1\n",
    "    r = 0\n",
    "    c = 0\n",
    "\n",
    "    while current_value <= N*N :\n",
    "        T [r][c] = current_value\n",
    "        current_value += 1\n",
    "        dr, dc = directions[dir]\n",
    "        nr = r + dr\n",
    "        nc = c + dc\n",
    "        if 0 <= nr < N and 0 <= nc < N and T[nr][nc] == 0:\n",
    "            r = nr\n",
    "            c = nc\n",
    "        else:\n",
    "            dir = (dir + 1) % 4\n",
    "            dr, dc = directions[dir]\n",
    "            r, c = r + dr, c + dc        \n",
    "\n",
    "    return T\n",
    "\n",
    "T = fill_spiral(5)\n",
    "for i in T:\n",
    "    print(i)"
   ]
  },
  {
   "cell_type": "code",
   "execution_count": 33,
   "metadata": {},
   "outputs": [
    {
     "data": {
      "text/plain": [
       "True"
      ]
     },
     "execution_count": 33,
     "metadata": {},
     "output_type": "execute_result"
    }
   ],
   "source": [
    "# Zadanie 93. Dana jest tablica T[N][N] wypełniona liczbami naturalnymi. Proszę napisać funkcję, która\n",
    "# odpowiada na pytanie, czy w każdym wierszu tablicy występuje co najmniej jedna liczba złożona wyłącznie\n",
    "# z nieparzystych cyfr.\n",
    "\n",
    "T = [[241,353,8685,3342,544],[2463,3245,45355,15462,34563],[33534,445323,213,11133,7754],[3791,12342,4575,7324,3453],[4234,3572,544,8762,2793]]\n",
    "\n",
    "def czy_zlozona_z_cyfr_nieparzystych(liczba):\n",
    "    while liczba > 0:\n",
    "        a = liczba % 10\n",
    "        if a % 2 == 0:\n",
    "            return False\n",
    "        else:\n",
    "            liczba /= 10\n",
    "    return True\n",
    "\n",
    "def czy_wystepuje(T):\n",
    "    ilosc = 0\n",
    "    dlugosc = len(T)\n",
    "    for i in range(dlugosc):\n",
    "        for j in T[i]:\n",
    "            if czy_zlozona_z_cyfr_nieparzystych(j):\n",
    "                ilosc += 1\n",
    "                break\n",
    "        if ilosc == 0:\n",
    "            return False\n",
    "    if ilosc == dlugosc:\n",
    "        return True\n",
    "\n",
    "czy_wystepuje(T)"
   ]
  },
  {
   "cell_type": "code",
   "execution_count": 34,
   "metadata": {},
   "outputs": [
    {
     "data": {
      "text/plain": [
       "True"
      ]
     },
     "execution_count": 34,
     "metadata": {},
     "output_type": "execute_result"
    }
   ],
   "source": [
    "# Zadanie 94. Dana jest tablica T[N][N] wypełniona liczbami naturalnymi. Proszę napisać funkcję, która\n",
    "# odpowiada na pytanie, czy istnieje wiersz w tablicy w którym każda z liczb zawiera przynajmniej jedna cyfrę\n",
    "# parzystą.\n",
    "\n",
    "T = [[241,353,8685,3342,544],[2463,3245,45355,15462,34563],[33534,445323,213,11133,7754],[3791,12342,4575,7324,3453],[4234,3572,544,8762,2793]]\n",
    "\n",
    "def czy_wystepuje_parzysta(liczba):\n",
    "    while liczba > 0:\n",
    "        a = liczba % 10\n",
    "        if a % 2 == 0:\n",
    "            return True\n",
    "        else:\n",
    "            liczba /= 10\n",
    "    return False\n",
    "\n",
    "def wiersz_każda_z_liczb_zawiera_parzystą(T):\n",
    "    count = 0\n",
    "    for i in range(len(T)):\n",
    "        for j in T[i]:\n",
    "            if czy_wystepuje_parzysta(j):\n",
    "                count += 1\n",
    "        if count == len(T):\n",
    "            return True\n",
    "    return False\n",
    "\n",
    "wiersz_każda_z_liczb_zawiera_parzystą(T)"
   ]
  },
  {
   "cell_type": "code",
   "execution_count": null,
   "metadata": {},
   "outputs": [
    {
     "name": "stdout",
     "output_type": "stream",
     "text": [
      "[0, 0, 0, 0, 1, 2, 3, 4, 5, 6, 7, 8, 12, 34, 51, 64]\n"
     ]
    }
   ],
   "source": [
    "# Zadanie 97. Dane są dwie tablice mogące pomieścić taką samą liczbę elementów: T1[N][N] i T2[M], gdzie\n",
    "# M=N*N. W każdym wierszu tablicy T1 znajdują się uporządkowane rosnąco (w obrębie wiersza) liczby\n",
    "# naturalne. Proszę napisać funkcję przepisującą wszystkie singletony (liczby występujące dokładnie raz) z\n",
    "# tablicy T1 do T2, tak aby liczby w tablicy T2 były uporządkowane rosnąco. Pozostałe elementy tablicy T2\n",
    "# powinny zawierać zera.\n",
    "\n",
    "T1 = [[1,2,3,4],[4,5,7,8],[1,3,5,6],[12,34,51,64]]\n",
    "\n",
    "def sigletony(T1):\n",
    "    N = len(T1)\n",
    "    M = N*N\n",
    "    T2 = []\n",
    "    for i in range(N):\n",
    "        for j in range(N):\n",
    "            T2.append(T1[i][j])\n",
    "    T2 = list(set(T2))\n",
    "    while len(T2) < N*N:\n",
    "        T2.append(0)\n",
    "    T2.sort(reverse = False)\n",
    "    print(T2)\n",
    "\n",
    "sigletony(T1)"
   ]
  },
  {
   "cell_type": "code",
   "execution_count": null,
   "metadata": {},
   "outputs": [],
   "source": [
    "# Zadanie 99. Dana jest tablica T[N][N] wypełniona liczbami naturalnymi. Proszę napisać funkcję, która\n",
    "# w poszukuje w tablicy najdłuższego ciągu geometrycznego leżącego ukośnie w kierunku prawo-dół, liczącego\n",
    "# co najmniej 3 elementy. Do funkcji należy przekazać tablicę. Funkcja powinna zwrócić informacje czy udało\n",
    "# się znaleźć taki ciąg oraz długość tego ciągu\n",
    "\n",
    "T = [[1,2,3,4],[4,5,7,8],[1,3,5,6],[1,3,5,6]]\n",
    "\n",
    "def ukosnie_geom(T, w = 0, k = 0, dlugosci = []):\n",
    "    N = len(T)\n",
    "    dlugosc = 1\n",
    "    q = T[w+1][k+1] / T[w][k]\n",
    "    w += 1\n",
    "    k += 1\n",
    "    while w < N and k < N:\n",
    "        if q == T[w+1][k+1] / T[w][k]:\n",
    "            dlugosc += 1\n",
    "    if dlugosc == N: return N\n",
    "    else: dlugosci.append(dlugosc)\n",
    "    return dlugosc\n"
   ]
  },
  {
   "cell_type": "code",
   "execution_count": 19,
   "metadata": {},
   "outputs": [
    {
     "name": "stdout",
     "output_type": "stream",
     "text": [
      "[1, 2, 3, 4]\n",
      "[1, 2, 7, 8]\n",
      "[1, 3, 4, 6]\n",
      "[1, 3, 9, 6]\n"
     ]
    }
   ],
   "source": [
    "T = [[1,2,3,4],[1,2,7,8],[1,3,4,6],[1,3,9,6]]\n",
    "\n",
    "for i in T:\n",
    "    print(i)"
   ]
  },
  {
   "cell_type": "code",
   "execution_count": null,
   "metadata": {},
   "outputs": [
    {
     "name": "stdout",
     "output_type": "stream",
     "text": [
      "[1, 2, 3, 4, 5]\n",
      "[1, 2, 3, 4, 5]\n",
      "[1, 2, 3, 4, 5]\n",
      "[1, 2, 3, 4, 5]\n",
      "[1, 2, 3, 4, 5]\n"
     ]
    },
    {
     "data": {
      "text/plain": [
       "(2, 2)"
      ]
     },
     "execution_count": 5,
     "metadata": {},
     "output_type": "execute_result"
    }
   ],
   "source": [
    "# Zadanie 100. Dana jest tablica T[N][N] wypełniona liczbami naturalnymi. Proszę napisać funkcję, która\n",
    "# w poszukuje w tablicy kwadratu o liczbie pól będącej liczbą nieparzystą większą od 1, którego iloczyn 4 pól\n",
    "# narożnych wynosi k. Do funkcji należy przekazać tablicę i wartość k. Funkcja powinna zwrócić informacje\n",
    "# czy udało się znaleźć kwadrat oraz współrzędne (wiersz, kolumna) środka kwadratu.\n",
    "\n",
    "def znajdz_kwadrat(T, iloczyn):\n",
    "    N = len(T)\n",
    "    for d in range(3, N+1, 2):\n",
    "        for w in range(N-d+1):\n",
    "            for k in range(N-d+1):\n",
    "                if T[w][k]*T[w+d-1][k]*T[w][k+d-1]*T[w+d-1][k+d-1] == iloczyn:\n",
    "                    return w + d//2, k + d//2\n",
    "    return -1, -1\n",
    "\n",
    "T = [[1,2,3,4,5],[1,2,3,4,5],[1,2,3,4,5],[1,2,3,4,5],[1,2,3,4,5]]\n",
    "for i in T:\n",
    "    print(i)\n",
    "\n",
    "znajdz_kwadrat(T, 25)"
   ]
  },
  {
   "cell_type": "code",
   "execution_count": 11,
   "metadata": {},
   "outputs": [
    {
     "name": "stdout",
     "output_type": "stream",
     "text": [
      "[1, 0, 3, 4, 5]\n",
      "[0, 2, 0, 4, 5]\n",
      "[1, 2, 0, 0, 5]\n",
      "[1, 2, 3, 0, 5]\n",
      "[1, 2, 3, 4, 0]\n"
     ]
    },
    {
     "data": {
      "text/plain": [
       "True"
      ]
     },
     "execution_count": 11,
     "metadata": {},
     "output_type": "execute_result"
    }
   ],
   "source": [
    "# Zadanie 101. Napisać funkcję która dla tablicy T[N][N], wypełnionej liczbami całkowitymi, zwraca wartość True w przypadku,\n",
    "# gdy w każdym wierszu i każdej kolumnie występuje co najmniej jedno 0 oraz wartość False w przeciwnym przypadku.\n",
    "\n",
    "def czy_wystepuje_0(T):\n",
    "    N = len(T)\n",
    "    kolumny = []\n",
    "    w = 0\n",
    "    k = 0\n",
    "    while w < N:\n",
    "        while k < N:\n",
    "            if T[w][k] == 0:\n",
    "                kolumny.append(k)\n",
    "                break\n",
    "            k += 1\n",
    "        if len(kolumny) == w: return False\n",
    "        else: w += 1\n",
    "    if len(kolumny) == N: return True\n",
    "\n",
    "T = [[1,0,3,4,5],[0,2,0,4,5],[1,2,0,0,5],[1,2,3,0,5],[1,2,3,4,0]]\n",
    "for i in T:\n",
    "    print(i)\n",
    "\n",
    "czy_wystepuje_0(T)"
   ]
  },
  {
   "cell_type": "code",
   "execution_count": 15,
   "metadata": {},
   "outputs": [
    {
     "name": "stdout",
     "output_type": "stream",
     "text": [
      "[153, 304, 321, 344, 5]\n",
      "[203, 42, 230, 44, 253]\n",
      "[1123, 232, 230, 40, 544]\n",
      "[421, 423, 31132, 340, 5]\n",
      "[451, 623, 33, 54, 650]\n"
     ]
    },
    {
     "data": {
      "text/plain": [
       "{'135': [[0, 0]],\n",
       " '034': [[0, 1], [3, 3]],\n",
       " '123': [[0, 2], [2, 0], [3, 2]],\n",
       " '34': [[0, 3]],\n",
       " '5': [[0, 4], [3, 4]],\n",
       " '023': [[1, 0], [1, 2], [2, 2]],\n",
       " '24': [[1, 1]],\n",
       " '4': [[1, 3]],\n",
       " '235': [[1, 4]],\n",
       " '23': [[2, 1]],\n",
       " '04': [[2, 3]],\n",
       " '45': [[2, 4], [4, 3]],\n",
       " '124': [[3, 0]],\n",
       " '234': [[3, 1]],\n",
       " '145': [[4, 0]],\n",
       " '236': [[4, 1]],\n",
       " '3': [[4, 2]],\n",
       " '056': [[4, 4]]}"
      ]
     },
     "execution_count": 15,
     "metadata": {},
     "output_type": "execute_result"
    }
   ],
   "source": [
    "# Zadanie 102. Dwie liczby naturalne są „przyjaciółkami jeżeli zbiory cyfr z których zbudowane są liczby\n",
    "# są identyczne. Na przykład: 123 i 321, 211 i 122, 35 3553. Dana jest tablica T[N][N] wypełniona liczbami\n",
    "# naturalnymi. Proszę napisać funkcję, która dla tablicy T zwraca ile elementów tablicy sąsiaduje wyłącznie z\n",
    "# przyjaciółkami\n",
    "\n",
    "def czy_przyjaciolki(T):\n",
    "    N = len(T)\n",
    "    cyfry_liczby = {}\n",
    "    for w in range(N):\n",
    "        for k in range(N):\n",
    "            zbior = set()\n",
    "            liczba = T[w][k]\n",
    "            while liczba > 0:\n",
    "                zbior.add(liczba % 10)\n",
    "                liczba //= 10\n",
    "\n",
    "            cyfry = \"\"\n",
    "            for i in zbior :\n",
    "                cyfry += str(i)\n",
    "\n",
    "            if cyfry not in cyfry_liczby:\n",
    "                cyfry_liczby[cyfry] = [[w,k]]\n",
    "            else:\n",
    "                cyfry_liczby[cyfry].append([w,k])\n",
    "    return cyfry_liczby\n",
    "\n",
    "\n",
    "\n",
    "T = [[153,304,321,344,5],[203,42,230,44,253],[1123,232,230,40,544],[421,423,31132,340,5],[451,623,33,54,650]]\n",
    "for i in T:\n",
    "    print(i)\n",
    "\n",
    "czy_przyjaciolki(T)"
   ]
  },
  {
   "cell_type": "code",
   "execution_count": 20,
   "metadata": {},
   "outputs": [
    {
     "name": "stdout",
     "output_type": "stream",
     "text": [
      "[[0, 1], [3, 3]]\n",
      "[[0, 2], [2, 0], [3, 2]]\n",
      "[[0, 4], [3, 4]]\n",
      "[[1, 0], [1, 2], [2, 2]]\n",
      "[[2, 4], [4, 3]]\n"
     ]
    }
   ],
   "source": [
    "wartosci = czy_przyjaciolki(T).values()\n",
    "\n",
    "directions = [[0, -1], [-1, -1], [-1, 0], [-1, 1], [0, 1], [1, 1], [1, 0], [1, -1]]\n",
    "for wartosc in wartosci:\n",
    "    ilosc = 0\n",
    "    if len(wartosc) > 1:\n",
    "        for i in wartosc:\n",
    "            x, y = i\n",
    "            for dir in directions:\n",
    "                dx, dy = directions[dir]\n",
    "                nx = x + dx\n",
    "                ny = y + dy\n",
    "                if 0 <= nx < N and 0 <= ny < N:\n"
   ]
  },
  {
   "cell_type": "code",
   "execution_count": 9,
   "metadata": {},
   "outputs": [
    {
     "data": {
      "text/plain": [
       "{1, 2, 3, 7}"
      ]
     },
     "execution_count": 9,
     "metadata": {},
     "output_type": "execute_result"
    }
   ],
   "source": [
    "a = {7}\n",
    "a.add(2)\n",
    "a.add(2)\n",
    "a.add(1)\n",
    "a.add(3)\n",
    "a"
   ]
  },
  {
   "cell_type": "code",
   "execution_count": 12,
   "metadata": {},
   "outputs": [
    {
     "name": "stdout",
     "output_type": "stream",
     "text": [
      "1237\n"
     ]
    }
   ],
   "source": [
    "liczba = \"\"\n",
    "for i in a :\n",
    "    liczba += str(i)\n",
    "print(liczba)"
   ]
  },
  {
   "cell_type": "code",
   "execution_count": 21,
   "metadata": {},
   "outputs": [
    {
     "data": {
      "text/plain": [
       "[{1, 2, 3}, {1, 2, 3}]"
      ]
     },
     "execution_count": 21,
     "metadata": {},
     "output_type": "execute_result"
    }
   ],
   "source": [
    "l = []\n",
    "l.append(a)\n",
    "l.append(a)\n",
    "l"
   ]
  },
  {
   "cell_type": "code",
   "execution_count": null,
   "metadata": {},
   "outputs": [],
   "source": []
  }
 ],
 "metadata": {
  "kernelspec": {
   "display_name": "base",
   "language": "python",
   "name": "python3"
  },
  "language_info": {
   "codemirror_mode": {
    "name": "ipython",
    "version": 3
   },
   "file_extension": ".py",
   "mimetype": "text/x-python",
   "name": "python",
   "nbconvert_exporter": "python",
   "pygments_lexer": "ipython3",
   "version": "3.10.9"
  }
 },
 "nbformat": 4,
 "nbformat_minor": 2
}
