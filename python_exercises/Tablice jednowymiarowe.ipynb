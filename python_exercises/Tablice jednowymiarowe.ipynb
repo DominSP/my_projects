{
 "cells": [
  {
   "cell_type": "code",
   "execution_count": null,
   "metadata": {},
   "outputs": [
    {
     "name": "stdout",
     "output_type": "stream",
     "text": [
      "w systemie  2  :  1010001111110010\n",
      "w systemie  3  :  2010120110\n",
      "w systemie  5  :  2320340\n",
      "w systemie  8  :  121762\n",
      "w systemie  10  :  41970\n",
      "w systemie  12  :  20356\n",
      "w systemie  16  :  A3F2\n"
     ]
    }
   ],
   "source": [
    "# Zadanie 1. Napisać funkcję zamieniającą i wypisującą liczbę naturalną na system o podstawie 2-16.\n",
    "\n",
    "def zamien_liczbe (liczba, podstawa):\n",
    "    wynik=[]\n",
    "    znaki = \"0123456789ABCDEF\"\n",
    "    while liczba > 0:\n",
    "        reszta = liczba % podstawa\n",
    "        wynik.append(znaki[reszta])\n",
    "        liczba = liczba // podstawa\n",
    "    wynik.reverse()\n",
    "    return ''.join(wynik)\n",
    "\n",
    "systemy = [2, 3, 5, 8, 10, 12, 16]\n",
    "for i in range(len(systemy)):\n",
    "    print(\"w systemie \",systemy[i], \" : \", zamien_liczbe(41970, systemy[i]))"
   ]
  },
  {
   "cell_type": "code",
   "execution_count": null,
   "metadata": {},
   "outputs": [
    {
     "name": "stdout",
     "output_type": "stream",
     "text": [
      "Liczby nie są zbudowane z tych samych cyfr\n"
     ]
    }
   ],
   "source": [
    "# Zadanie 2. Napisać funkcje sprawdzającą czy dwie liczby naturalne są one zbudowane z takich samych\n",
    "# cyfr, np. 123 i 321, 1255 i 5125, 11000 i 10001.\n",
    "\n",
    "def czy_takie_same_cyfry(a, b):\n",
    "    if len(str(a)) != len(str(b)):\n",
    "        print(\"Liczby nie są zbudowane z tych samych cyfr\")\n",
    "\n",
    "    else:\n",
    "        a_cyfry = []\n",
    "        b_cyfry = []\n",
    "        while a > 0:\n",
    "            a_cyfry.append(a % 10)\n",
    "            b_cyfry.append(b % 10)\n",
    "            a = a // 10\n",
    "            b = b // 10\n",
    "        a_cyfry.sort()\n",
    "        b_cyfry.sort()\n",
    "        if a_cyfry == b_cyfry:\n",
    "            print(\"Liczby są zbudowane z tych samych cyfr\")\n",
    "        #return a_cyfry, b_cyfry\n",
    "\n",
    "czy_takie_same_cyfry(12555, 5125)"
   ]
  },
  {
   "cell_type": "code",
   "execution_count": null,
   "metadata": {},
   "outputs": [],
   "source": [
    "# II sposób:\n",
    "def czy_takie_same_cyfry(a, b):\n",
    "    if sorted(str(a)) == sorted(str(b)):\n",
    "        print(\"Liczby są zbudowane z tych samych cyfr\")\n",
    "    else:\n",
    "        print(\"Liczby nie są zbudowane z tych samych cyfr\")"
   ]
  },
  {
   "cell_type": "code",
   "execution_count": 1,
   "metadata": {},
   "outputs": [
    {
     "name": "stdout",
     "output_type": "stream",
     "text": [
      "2 3 5 7 11 13 17 19 23 29 31 37 41 43 47 "
     ]
    }
   ],
   "source": [
    "# Zadanie 3. Napisać program generujący i wypisujący liczby pierwsze mniejsze od N metodą Sita Eratostenesa.\n",
    "def sito_eratostenesa(N):\n",
    "    # Tworzymy tablicę, w której indeksy odpowiadają liczbom\n",
    "    # i ustawiamy wartości na True, zakładając, że wszystkie liczby są pierwsze\n",
    "    liczby_pierwsze = [True] * (N + 1)\n",
    "    liczby_pierwsze[0] = liczby_pierwsze[1] = False  # 0 i 1 nie są liczbami pierwszymi\n",
    "\n",
    "    # Algorytm zaczyna się od liczby 2\n",
    "    for p in range(2, int(N**0.5) + 1):\n",
    "        if liczby_pierwsze[p]:\n",
    "            # Zaznaczamy wszystkie wielokrotności liczby p jako niepierwsze\n",
    "            for i in range(p * p, N + 1, p):\n",
    "                liczby_pierwsze[i] = False\n",
    "\n",
    "    # Wypisujemy wszystkie liczby pierwsze mniejsze od N\n",
    "    for p in range(2, N):\n",
    "        if liczby_pierwsze[p]:\n",
    "            print(p, end=' ')\n",
    "\n",
    "# Przykład użycia\n",
    "N = 50\n",
    "sito_eratostenesa(N)\n"
   ]
  },
  {
   "cell_type": "code",
   "execution_count": null,
   "metadata": {},
   "outputs": [
    {
     "name": "stdout",
     "output_type": "stream",
     "text": [
      "Wprowadź ciąg liczb naturalnych (wprowadź 0, aby zakończyć):\n",
      "10. co do wielkości wartość to: 67\n"
     ]
    },
    {
     "data": {
      "text/plain": [
       "[7654, 987, 876, 765, 567, 543, 456, 87, 78, 67, 65, 35, 6, 5]"
      ]
     },
     "execution_count": 56,
     "metadata": {},
     "output_type": "execute_result"
    }
   ],
   "source": [
    "# Zadanie 5. Napisać program, który wczytuje wprowadzany z klawiatury ciąg liczb naturalnych zakończonych zerem stanowiącym wyłącznie znacznik końca danych.\n",
    "# Program powinien wypisać 10 co do wielkości wartość, jaka wystąpiła w ciągu.\n",
    "def znajdz_dziesiata_najwieksza():\n",
    "    liczby = []\n",
    "\n",
    "    print(\"Wprowadź ciąg liczb naturalnych (wprowadź 0, aby zakończyć):\")\n",
    "    while True:\n",
    "        liczba = int(input())\n",
    "        if liczba == 0:\n",
    "            break\n",
    "        liczby.append(liczba)\n",
    "\n",
    "    # Usuwamy duplikaty i sortujemy liczby malejąco\n",
    "    liczby_unikalne = list(set(liczby))\n",
    "    liczby_unikalne.sort(reverse=True)\n",
    "\n",
    "    # Sprawdzamy, czy jest co najmniej 10 unikalnych liczb\n",
    "    if len(liczby_unikalne) < 10:\n",
    "        print(\"Nie ma wystarczającej liczby unikalnych wartości.\")\n",
    "    else:\n",
    "        dziesiata = liczby_unikalne[9]  # 10. co do wielkości to indeks 9\n",
    "        print(f\"10. co do wielkości wartość to: {dziesiata}\")\n",
    "    return liczby_unikalne\n",
    "\n",
    "# Przykład użycia\n",
    "znajdz_dziesiata_najwieksza()\n"
   ]
  },
  {
   "cell_type": "code",
   "execution_count": null,
   "metadata": {},
   "outputs": [
    {
     "name": "stdout",
     "output_type": "stream",
     "text": [
      "Wygenerowana tablica: [978, 439, 506, 599, 196, 796, 167, 315, 397, 177]\n",
      "Niektóre elementy tablicy nie zawierają cyfr nieparzystych.\n"
     ]
    }
   ],
   "source": [
    "# Zadanie 6. Napisać program wypełniający N-elementową tablicę t liczbami naturalnymi 1-1000 i sprawdzający\n",
    "# czy każdy element tablicy zawiera co najmniej jedną cyfrę nieparzystą.\n",
    "import random\n",
    "\n",
    "# Krok 1: Generowanie N-elementowej tablicy\n",
    "N = 10  # Możesz ustawić dowolną wartość N\n",
    "tablica = random.sample(range(1, 1001), N)  # Generuje N unikalnych liczb od 1 do 1000\n",
    "\n",
    "# Funkcja sprawdzająca, czy liczba zawiera co najmniej jedną cyfrę nieparzystą\n",
    "def zawiera_cyfre_nieparzysta(liczba):\n",
    "    for cyfra in str(liczba):\n",
    "        if int(cyfra) % 2 != 0:  # nieparzysta\n",
    "            return True\n",
    "    return False\n",
    "\n",
    "# Krok 2: Sprawdzanie każdej liczby w tablicy\n",
    "wszystkie_zawieraja_nieparzysta = True  # Flaga do sprawdzania, czy wszystkie liczby są poprawne\n",
    "\n",
    "for liczba in tablica:\n",
    "    if zawiera_cyfre_nieparzysta(liczba) == False:\n",
    "        wszystkie_zawieraja_nieparzysta = False\n",
    "        break\n",
    "\n",
    "# Wypisanie wyników\n",
    "print(\"Wygenerowana tablica:\", tablica)\n",
    "if wszystkie_zawieraja_nieparzysta:\n",
    "    print(\"Każdy element tablicy zawiera co najmniej jedną cyfrę nieparzystą.\")\n",
    "else:\n",
    "    print(\"Niektóre elementy tablicy nie zawierają cyfr nieparzystych.\")\n"
   ]
  },
  {
   "cell_type": "code",
   "execution_count": 2,
   "metadata": {},
   "outputs": [
    {
     "name": "stdout",
     "output_type": "stream",
     "text": [
      "Tablica: [98, 91, 94, 85, 73, 51, 42, 41, 58, 4]\n",
      "Wszystkie podciągi rosnące: [[98], [91, 94], [85], [73], [51], [42], [41, 58], [4]]\n",
      "Długości podciągów: [1, 2, 1, 1, 1, 1, 2, 1]\n",
      "Indeksy najdłuższego podciągu: [1, 6]\n",
      "Najdłuższy podciąg (lub kilka jeśli są równe): [[91, 94], [41, 58]]\n"
     ]
    }
   ],
   "source": [
    "# Zadanie 9. Napisać funkcję, która dla N-elementowej tablicy t wypełnionej liczbami naturalnymi wyznacza\n",
    "# długość najdłuższego, spójnego podciągu rosnącego.\n",
    "import random\n",
    "\n",
    "N = 10\n",
    "table = random.sample(range(1, 100), N)\n",
    "print(\"Tablica:\", table)\n",
    "\n",
    "def Podciag_Rosnacy(table):\n",
    "    \"\"\" Funkcja zwraca listę spójnych podciągów rosnących. \"\"\"\n",
    "    ciagi_rosnace = []\n",
    "    podciag_rosnacy = [table[0]]\n",
    "\n",
    "    for i in range(1, len(table)):\n",
    "        if table[i] > table[i - 1]:\n",
    "            podciag_rosnacy.append(table[i])\n",
    "        else:\n",
    "            ciagi_rosnace.append(podciag_rosnacy)\n",
    "            podciag_rosnacy = [table[i]]\n",
    "\n",
    "    ciagi_rosnace.append(podciag_rosnacy)  # Dodanie ostatniego podciągu\n",
    "    return ciagi_rosnace\n",
    "\n",
    "wszystkie_podciagi_tabeli = Podciag_Rosnacy(table)\n",
    "print(\"Wszystkie podciągi rosnące:\", wszystkie_podciagi_tabeli)\n",
    "\n",
    "# Wyznaczamy długości podciągów\n",
    "dlugosci_podciagow = [len(ciag) for ciag in wszystkie_podciagi_tabeli]\n",
    "print(\"Długości podciągów:\", dlugosci_podciagow)\n",
    "\n",
    "# Znalezienie indeksów maksymalnej długości\n",
    "max_dlugosc = max(dlugosci_podciagow)\n",
    "index_max_podciag = [i for i, dlugosc in enumerate(dlugosci_podciagow) if dlugosc == max_dlugosc]\n",
    "print(\"Indeksy najdłuższego podciągu:\", index_max_podciag)\n",
    "\n",
    "# Pobranie najdłuższych podciągów\n",
    "ciag_max = [wszystkie_podciagi_tabeli[i] for i in index_max_podciag]\n",
    "print(\"Najdłuższy podciąg (lub kilka jeśli są równe):\", ciag_max)"
   ]
  },
  {
   "cell_type": "code",
   "execution_count": 19,
   "metadata": {},
   "outputs": [
    {
     "name": "stdout",
     "output_type": "stream",
     "text": [
      "Wprowadź  10  liczb naturalnych\n"
     ]
    },
    {
     "data": {
      "text/plain": [
       "([2, 3, 4, 5, 2, 3, 5, 6, 4, 6], 4)"
      ]
     },
     "execution_count": 19,
     "metadata": {},
     "output_type": "execute_result"
    }
   ],
   "source": [
    "# Zadanie 9. Napisać funkcję, która dla N-elementowej tablicy t wypełnionej liczbami naturalnymi wyznacza\n",
    "# długość najdłuższego, spójnego podciągu rosnącego.\n",
    "\n",
    "import random\n",
    "N = 10\n",
    "\n",
    "def najdluzysz_ciag_ros(N):\n",
    "    # table = random.sample(range(1,11), N)\n",
    "    # print(table)\n",
    "    table = []\n",
    "    print(\"Wprowadź \", N ,\" liczb naturalnych\")\n",
    "    i=0\n",
    "    while i < N:\n",
    "        liczba = int(input())\n",
    "        table.append(liczba)\n",
    "        i += 1\n",
    "\n",
    "    dl = 1\n",
    "    i = 0\n",
    "    dlugosci_ciagow=[]\n",
    "    while i < N-1:\n",
    "        if table[i] < table[i+1]:\n",
    "            dl += 1\n",
    "            i+=1\n",
    "        else:\n",
    "            dlugosci_ciagow.append(dl)\n",
    "            dl = 1\n",
    "            i+=1\n",
    "    return table, max(dlugosci_ciagow)\n",
    "\n",
    "najdluzysz_ciag_ros(N)"
   ]
  },
  {
   "cell_type": "code",
   "execution_count": 34,
   "metadata": {},
   "outputs": [
    {
     "name": "stdout",
     "output_type": "stream",
     "text": [
      "[[1, 2, 3], [3, 5], [5, 10], [10, 2], [2, 4, 6, 8]]\n",
      "[[2, 4, 6, 8]]\n"
     ]
    }
   ],
   "source": [
    "# Zadanie 10. Napisać funkcję, która dla N-elementowej tablicy t wypełnionej liczbami naturalnymi wyznacza\n",
    "# długość najdłuższego, spójnego podciągu ARYTMETYCZNEGO.\n",
    "\n",
    "import random\n",
    "N = 20\n",
    "# table = random.sample(range(1,30), N)\n",
    "# print(table)\n",
    "table = [1,2,3,5,10,2,4,6,8]\n",
    "podciag_arytm=[]\n",
    "\n",
    "i=0\n",
    "while i < len(table)-1:\n",
    "    r = table[i+1]-table[i]\n",
    "    ciag_arytm = [table[i]]\n",
    "    while i < len(table)-1 and table[i+1]-table[i] == r :\n",
    "        ciag_arytm.append(table[i+1])\n",
    "        #print(ciag_arytm)\n",
    "        i+=1\n",
    "    podciag_arytm.append(ciag_arytm)\n",
    "print(podciag_arytm)\n",
    "\n",
    "index_max_podciag = Index(Dlugosc_podciagów(podciag_arytm))\n",
    "\n",
    "ciag_max = []\n",
    "for i in index_max_podciag:\n",
    "    ciag_max.append(podciag_arytm[i])\n",
    "print(ciag_max)"
   ]
  },
  {
   "cell_type": "code",
   "execution_count": null,
   "metadata": {},
   "outputs": [
    {
     "name": "stdout",
     "output_type": "stream",
     "text": [
      "Wpisz  10  liczb naturalnych:\n"
     ]
    },
    {
     "data": {
      "text/plain": [
       "([2, 3, 4, 5, 3, 5, 7, 9, 2, 4], [4, 1, 3, 1])"
      ]
     },
     "execution_count": 20,
     "metadata": {},
     "output_type": "execute_result"
    }
   ],
   "source": [
    "# Zadanie 10. Napisać funkcję, która dla N-elementowej tablicy t wypełnionej liczbami naturalnymi wyznacza\n",
    "# długość najdłuższego, spójnego podciągu ARYTMETYCZNEGO.\n",
    "\n",
    "def najdluzysz_ciag_arytm(N):\n",
    "    print(\"Wpisz \", N, \" liczb naturalnych:\")\n",
    "    table = []\n",
    "    i = 0\n",
    "    while i < N:\n",
    "        liczba = int(input())\n",
    "        table.append(liczba)\n",
    "        i+=1\n",
    "    \n",
    "    i = 0\n",
    "    dl = 1\n",
    "    r = table[2]-table[1]\n",
    "    dlugosci = []\n",
    "    while i < N-1:\n",
    "        if table[i+1] - table [i] == r :\n",
    "            dl +=1\n",
    "            i+=1\n",
    "        else:\n",
    "            dlugosci.append(dl)\n",
    "            r = table[i+1] - table[i]\n",
    "            dl = 1\n",
    "            i+=1\n",
    "    return table, dlugosci\n",
    "\n",
    "\n",
    "najdluzysz_ciag_arytm(10)\n",
    "#### do poprawy"
   ]
  },
  {
   "cell_type": "code",
   "execution_count": 49,
   "metadata": {},
   "outputs": [
    {
     "name": "stdout",
     "output_type": "stream",
     "text": [
      "[9, 3, 1, 7]\n",
      "4\n"
     ]
    }
   ],
   "source": [
    "#Zadanie 13. Proszę napisać program, który wypełnia N-elementową tablicę t trzycyfrowymi liczbami\n",
    "# pseudolosowymi, a następnie wyznacza i wypisuje długość najdłuższego podciągu spójnego znajdującego\n",
    "# się w tablicy dla którego w tablicy występuje również rewers tego ciągu. Na przykład dla tablicy:\n",
    "# t=[2,9,3,1,7,11,9,6,7,7,1,3,9,12,15] odpowiedzią jest liczba 4.\n",
    "\n",
    "t=[2,9,3,1,7,11,9,6,7,7,1,3,9,12,15]\n",
    "\n",
    "ciag = []\n",
    "i = 0\n",
    "while i < len(t):\n",
    "    j = len(t)-1\n",
    "    while j > i:\n",
    "        #print(t[i],i,t[j],j)\n",
    "        if t[i] == t[j]:\n",
    "            ciag.append(t[i])\n",
    "            #print(ciag)\n",
    "            i+=1\n",
    "            j-=1\n",
    "        else:\n",
    "            j-=1\n",
    "    if len(ciag)>0: break\n",
    "    i+=1\n",
    "print(ciag)\n",
    "print(len(ciag))"
   ]
  },
  {
   "cell_type": "code",
   "execution_count": null,
   "metadata": {},
   "outputs": [],
   "source": [
    "# Zadanie 14. Napisać program wyznaczający na drodze eksperymentu prawdopodobieństwo tego, że w\n",
    "# grupie N przypadkowo spotkanych osób, co najmniej dwie urodziły się tego samego dnia roku. Wyznaczyć\n",
    "# wartości prawdopodobieństwa dla N z zakresu 20-40.\n",
    "\n"
   ]
  },
  {
   "cell_type": "code",
   "execution_count": null,
   "metadata": {},
   "outputs": [],
   "source": [
    "# Zadanie 17. Dane są dwie N-elementowe tablice t1 i t2 zawierające liczby naturalne. Z wartości w obu\n",
    "# tablicach możemy tworzyć sumy. „Poprawna” suma to taka, która zawiera co najmniej jeden element (z\n",
    "# tablicy t1 lub t2) o każdym indeksie. Na przykład dla tablic: t1 = [1,3,2,4] i t2 = [9,7,4,8] poprawnymi\n",
    "# sumami są na przykład 1+3+2+4, 9+7+4+8, 1+7+3+8, 1+9+7+2+4+8. Proszę napisać funkcje generującą\n",
    "# i wypisująca wszystkie poprawne sumy, które są liczbami pierwszymi. Do funkcji należy przekazać dwie\n",
    "# tablice, funkcja powinna zwrócić liczbę znalezionych i wypisanych sum.\n",
    "import math\n",
    "\n",
    "def czy_pierwsza(liczba):\n",
    "    if liczba < 2:\n",
    "        return False\n",
    "    elif liczba == 2:\n",
    "        return True\n",
    "    else:\n",
    "        for i in range(3, math.sqrt(liczba), 2):\n",
    "            if liczba % i == 0:\n",
    "                return False\n",
    "        return True\n",
    "\n",
    "def poprawne_sumy(t1, t2):\n",
    "    sumy = []\n",
    "    for i in range(len(t1)):\n",
    "        "
   ]
  },
  {
   "cell_type": "code",
   "execution_count": null,
   "metadata": {},
   "outputs": [],
   "source": [
    "# # z zajęć\n",
    "# def Lekcyjne60(n, p):\n",
    "#     hex = \"0123456789ABCDEF\"\n",
    "#     tab = [0 for _ in range(64)]\n",
    "#     i = 0\n",
    "#     while n>0:\n",
    "#         tab[i] = n%p\n",
    "#         n = n // p\n",
    "#         i += 1\n",
    "#     for x in range(i-1,-1,-1):\n",
    "#         print(hex[tab[x]], end =\"\")\n",
    "#     print()\n",
    "\n",
    "# def Lekcyjne61(number1, number2):\n",
    "#     counter = [0 for _ in range(10)]\n",
    "#     while number1 > 0:\n",
    "#         counter[number1%10] += 1\n",
    "#         number1 //= 10\n",
    "#     while number2 > 0:\n",
    "#         counter[number2%10] += 1\n",
    "#         number2 //= 10\n",
    "#     for c in counter:\n",
    "#         if c != 0:\n",
    "#             return False\n",
    "#     return True\n",
    "\n",
    "\n",
    "# def Lekcyjne62(N):\n",
    "#     tab = [True for _ in range(N)]\n",
    "#     tab[0] = False\n",
    "#     tab[1] = False\n",
    "#     licznik = 0\n",
    "#     for i in range(2,isqrt(N)+1):\n",
    "#         if tab[i]:\n",
    "#             for x in range(i*i,N,i):\n",
    "#                 tab[x] = False\n",
    "#                 licznik += 1\n",
    "#         i += 1\n",
    "#     return licznik\n",
    "\n",
    "\n",
    "# def Lekcyjne63Finalne(N):\n",
    "#     e = [0 for _ in range(N)] # tak naprawdę to powinniśmy dodać jakieś 100 elementów do ranga, bo dokładność nas obali\n",
    "#     w = [0 for _ in range(N)]\n",
    "#     e[0] = 1\n",
    "#     w[0] = 1\n",
    "#     n = 1\n",
    "#     #b = True\n",
    "#     #while b:\n",
    "#     while sum(w)>0:\n",
    "#         #b = False\n",
    "#         p = 0\n",
    "#         for i in range(N-1,-1,-1):\n",
    "#             s = e[i] + w[i]\n",
    "#             e[i] = (s%10) + p\n",
    "#             p = s//10\n",
    "        \n",
    "#         n += 1\n",
    "        \n",
    "#         r = 0\n",
    "#         for i in range(N):\n",
    "#             t = r*10 + w[i]\n",
    "#             w[i] = t//n\n",
    "#             #if w[i] > 0:\n",
    "#             #    b = True\n",
    "#             r = t%n\n",
    "#     return True"
   ]
  }
 ],
 "metadata": {
  "kernelspec": {
   "display_name": "base",
   "language": "python",
   "name": "python3"
  },
  "language_info": {
   "codemirror_mode": {
    "name": "ipython",
    "version": 3
   },
   "file_extension": ".py",
   "mimetype": "text/x-python",
   "name": "python",
   "nbconvert_exporter": "python",
   "pygments_lexer": "ipython3",
   "version": "3.10.9"
  }
 },
 "nbformat": 4,
 "nbformat_minor": 2
}
