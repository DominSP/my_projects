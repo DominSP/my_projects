{
 "cells": [
  {
   "cell_type": "code",
   "execution_count": 24,
   "metadata": {},
   "outputs": [
    {
     "name": "stdout",
     "output_type": "stream",
     "text": [
      "72.285\n"
     ]
    }
   ],
   "source": [
    "#Zadanie 2. Napisać program wczytujący trzy liczby naturalne a,b,n i wypisujący rozwinięcie dziesiętne \n",
    "# ułamka a/b z dokładnością do n miejsc po kropce dziesiętnej. (n jest rzędu 100)\n",
    "a = 506\n",
    "b = 7\n",
    "n = 3\n",
    "\n",
    "wynik = str(a // b) + '.'\n",
    "reszta = a % b\n",
    "\n",
    "for i in range(n):\n",
    "    liczba = reszta * 10\n",
    "    cal = liczba // b\n",
    "    wynik += str(cal)\n",
    "    reszta = liczba % b\n",
    "    if reszta == 0: break\n",
    "\n",
    "print (wynik)"
   ]
  },
  {
   "cell_type": "code",
   "execution_count": 20,
   "metadata": {},
   "outputs": [
    {
     "data": {
      "text/plain": [
       "72.28571428571429"
      ]
     },
     "execution_count": 20,
     "metadata": {},
     "output_type": "execute_result"
    }
   ],
   "source": [
    "506/7"
   ]
  },
  {
   "cell_type": "code",
   "execution_count": 51,
   "metadata": {},
   "outputs": [
    {
     "name": "stdout",
     "output_type": "stream",
     "text": [
      "liczba jest palindromem\n"
     ]
    },
    {
     "ename": "TypeError",
     "evalue": "sequence item 0: expected str instance, int found",
     "output_type": "error",
     "traceback": [
      "\u001b[1;31m---------------------------------------------------------------------------\u001b[0m",
      "\u001b[1;31mTypeError\u001b[0m                                 Traceback (most recent call last)",
      "Cell \u001b[1;32mIn[51], line 29\u001b[0m\n\u001b[0;32m     27\u001b[0m         \u001b[38;5;66;03m#return reszta\u001b[39;00m\n\u001b[0;32m     28\u001b[0m         \u001b[38;5;28;01mreturn\u001b[39;00m \u001b[38;5;124m'\u001b[39m\u001b[38;5;124m'\u001b[39m\u001b[38;5;241m.\u001b[39mjoin(reszta)  \u001b[38;5;66;03m# Zwrócenie jako string\u001b[39;00m\n\u001b[1;32m---> 29\u001b[0m \u001b[43msystem_dwojkowy\u001b[49m\u001b[43m(\u001b[49m\u001b[43mn\u001b[49m\u001b[43m)\u001b[49m\n",
      "Cell \u001b[1;32mIn[51], line 28\u001b[0m, in \u001b[0;36msystem_dwojkowy\u001b[1;34m(liczba)\u001b[0m\n\u001b[0;32m     26\u001b[0m \u001b[38;5;28;01mdel\u001b[39;00m reszta[\u001b[38;5;241m-\u001b[39m\u001b[38;5;241m1\u001b[39m]\n\u001b[0;32m     27\u001b[0m \u001b[38;5;66;03m#return reszta\u001b[39;00m\n\u001b[1;32m---> 28\u001b[0m \u001b[38;5;28;01mreturn\u001b[39;00m \u001b[38;5;124;43m'\u001b[39;49m\u001b[38;5;124;43m'\u001b[39;49m\u001b[38;5;241;43m.\u001b[39;49m\u001b[43mjoin\u001b[49m\u001b[43m(\u001b[49m\u001b[43mreszta\u001b[49m\u001b[43m)\u001b[49m\n",
      "\u001b[1;31mTypeError\u001b[0m: sequence item 0: expected str instance, int found"
     ]
    }
   ],
   "source": [
    "#Zadanie 3. Napisz program wczytujący liczbę naturalną z klawiatury i odpowiadający na pytanie, czy \n",
    "# liczba naturalna jest palindromem, a następnie czy jest palindromem w systemie dwójkowym.\n",
    "n = 123454321\n",
    "\n",
    "def czy_palindrom (liczba) :\n",
    "    l = [liczba // 10 ** (len(str(liczba))-1)]\n",
    "    p = [liczba % 10]\n",
    "    for i in range(len(str(liczba))//2-1):\n",
    "        l.append(liczba // 10 ** (len(str(liczba))-2-i) % 10)\n",
    "        p.append(liczba % 10**(i+2) // 10**(i+1))\n",
    "    if l == p:\n",
    "        print('liczba jest palindromem')\n",
    "    else:\n",
    "        print('liczba nie jest palindromem')\n",
    "czy_palindrom(n)\n",
    "\n",
    "def system_dwojkowy(liczba):\n",
    "    reszta = [1]\n",
    "    if liczba ==1:\n",
    "        return 1\n",
    "    else:\n",
    "        while liczba > 0:\n",
    "            reszta.append( liczba % 2 )\n",
    "            liczba = liczba // 2\n",
    "        reszta.reverse()\n",
    "        del reszta[-1]\n",
    "        return reszta\n",
    "        #return ''.join(reszta)  # Zwrócenie jako string\n",
    "system_dwojkowy(n)\n"
   ]
  },
  {
   "cell_type": "code",
   "execution_count": 49,
   "metadata": {},
   "outputs": [
    {
     "name": "stdout",
     "output_type": "stream",
     "text": [
      "111010110111100001101110001\n"
     ]
    }
   ],
   "source": [
    "n_dwojkowym = int(\"\".join(map(str, system_dwojkowy(n))))\n",
    "print(n_dwojkowym)"
   ]
  },
  {
   "cell_type": "code",
   "execution_count": 50,
   "metadata": {},
   "outputs": [
    {
     "name": "stdout",
     "output_type": "stream",
     "text": [
      "liczba nie jest palindromem\n"
     ]
    }
   ],
   "source": [
    "czy_palindrom(n_dwojkowym)"
   ]
  },
  {
   "cell_type": "code",
   "execution_count": 55,
   "metadata": {},
   "outputs": [
    {
     "data": {
      "text/plain": [
       "'763521'"
      ]
     },
     "execution_count": 55,
     "metadata": {},
     "output_type": "execute_result"
    }
   ],
   "source": [
    "str(125367)[::-1]"
   ]
  },
  {
   "cell_type": "code",
   "execution_count": 58,
   "metadata": {},
   "outputs": [
    {
     "data": {
      "text/plain": [
       "[2, 3, 5]"
      ]
     },
     "execution_count": 58,
     "metadata": {},
     "output_type": "execute_result"
    }
   ],
   "source": [
    "l=[]\n",
    "l.append(2)\n",
    "l.append(3)\n",
    "l.append(5)\n",
    "l"
   ]
  },
  {
   "cell_type": "code",
   "execution_count": 61,
   "metadata": {},
   "outputs": [
    {
     "data": {
      "text/plain": [
       "[5, 3, 2]"
      ]
     },
     "execution_count": 61,
     "metadata": {},
     "output_type": "execute_result"
    }
   ],
   "source": [
    "l.reverse()\n",
    "l"
   ]
  },
  {
   "cell_type": "code",
   "execution_count": 62,
   "metadata": {},
   "outputs": [
    {
     "ename": "TypeError",
     "evalue": "sequence item 0: expected str instance, int found",
     "output_type": "error",
     "traceback": [
      "\u001b[1;31m---------------------------------------------------------------------------\u001b[0m",
      "\u001b[1;31mTypeError\u001b[0m                                 Traceback (most recent call last)",
      "Cell \u001b[1;32mIn[62], line 1\u001b[0m\n\u001b[1;32m----> 1\u001b[0m \u001b[38;5;124;43m'\u001b[39;49m\u001b[38;5;124;43m'\u001b[39;49m\u001b[38;5;241;43m.\u001b[39;49m\u001b[43mjoin\u001b[49m\u001b[43m(\u001b[49m\u001b[43ml\u001b[49m\u001b[43m)\u001b[49m\n",
      "\u001b[1;31mTypeError\u001b[0m: sequence item 0: expected str instance, int found"
     ]
    }
   ],
   "source": [
    "''.join(l)"
   ]
  }
 ],
 "metadata": {
  "kernelspec": {
   "display_name": "base",
   "language": "python",
   "name": "python3"
  },
  "language_info": {
   "codemirror_mode": {
    "name": "ipython",
    "version": 3
   },
   "file_extension": ".py",
   "mimetype": "text/x-python",
   "name": "python",
   "nbconvert_exporter": "python",
   "pygments_lexer": "ipython3",
   "version": "3.10.9"
  }
 },
 "nbformat": 4,
 "nbformat_minor": 2
}
