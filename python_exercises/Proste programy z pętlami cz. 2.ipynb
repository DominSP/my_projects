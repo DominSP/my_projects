{
 "cells": [
  {
   "cell_type": "code",
   "execution_count": 2,
   "metadata": {},
   "outputs": [
    {
     "name": "stdout",
     "output_type": "stream",
     "text": [
      "72.285\n",
      "72.28571428571429\n"
     ]
    }
   ],
   "source": [
    "# Zadanie 2. Napisać program wczytujący trzy liczby naturalne a,b,n i wypisujący rozwinięcie dziesiętne \n",
    "# ułamka a/b z dokładnością do n miejsc po kropce dziesiętnej. (n jest rzędu 100)\n",
    "\n",
    "a = 506\n",
    "b = 7\n",
    "n = 3\n",
    "\n",
    "wynik = str(a // b) + '.'\n",
    "reszta = a % b\n",
    "\n",
    "for i in range(n):\n",
    "    liczba = reszta * 10\n",
    "    cal = liczba // b\n",
    "    wynik += str(cal)\n",
    "    reszta = liczba % b\n",
    "    if reszta == 0: break\n",
    "\n",
    "print(wynik)\n",
    "print(506/7)"
   ]
  },
  {
   "cell_type": "code",
   "execution_count": 5,
   "metadata": {},
   "outputs": [
    {
     "name": "stdout",
     "output_type": "stream",
     "text": [
      "Liczba jest palindromem\n",
      "Liczba nie jest palindromem\n"
     ]
    },
    {
     "data": {
      "text/plain": [
       "False"
      ]
     },
     "execution_count": 5,
     "metadata": {},
     "output_type": "execute_result"
    }
   ],
   "source": [
    "# Zadanie 3. Napisz program wczytujący liczbę naturalną z klawiatury i odpowiadający na pytanie, czy \n",
    "# liczba naturalna jest palindromem, a następnie czy jest palindromem w systemie dwójkowym.\n",
    "\n",
    "n = 123454321\n",
    "\n",
    "def czy_palindrom(liczba):\n",
    "    liczba_str = str(liczba)\n",
    "    if liczba_str == liczba_str[::-1]:\n",
    "        print('Liczba jest palindromem')\n",
    "        return True\n",
    "    else:\n",
    "        print('Liczba nie jest palindromem')\n",
    "        return False\n",
    "\n",
    "def system_dwojkowy(liczba):\n",
    "    return bin(liczba)[2:]  # Zamiana liczby na system dwójkowy (bez '0b' na początku)\n",
    "\n",
    "# Przykładowa liczba\n",
    "n = 123454321\n",
    "\n",
    "czy_palindrom(n)\n",
    "\n",
    "n_dwojkowy = system_dwojkowy(n)\n",
    "czy_palindrom(n_dwojkowy)"
   ]
  },
  {
   "cell_type": "code",
   "execution_count": 14,
   "metadata": {},
   "outputs": [
    {
     "name": "stdout",
     "output_type": "stream",
     "text": [
      "Jest palindronem\n"
     ]
    },
    {
     "data": {
      "text/plain": [
       "True"
      ]
     },
     "execution_count": 14,
     "metadata": {},
     "output_type": "execute_result"
    }
   ],
   "source": [
    "def czy_palindrom(liczba):\n",
    "    liczba = str(liczba)\n",
    "    dlugosc = len(liczba)\n",
    "    for i in range(dlugosc//2):\n",
    "        if liczba[i] != liczba[-(i+1)]:\n",
    "            print(\"Nie jest palindronem\")\n",
    "            return False\n",
    "    print(\"Jest palindronem\")\n",
    "    return True\n",
    "\n",
    "czy_palindrom(1223221)"
   ]
  }
 ],
 "metadata": {
  "kernelspec": {
   "display_name": "base",
   "language": "python",
   "name": "python3"
  },
  "language_info": {
   "codemirror_mode": {
    "name": "ipython",
    "version": 3
   },
   "file_extension": ".py",
   "mimetype": "text/x-python",
   "name": "python",
   "nbconvert_exporter": "python",
   "pygments_lexer": "ipython3",
   "version": "3.10.9"
  }
 },
 "nbformat": 4,
 "nbformat_minor": 2
}
