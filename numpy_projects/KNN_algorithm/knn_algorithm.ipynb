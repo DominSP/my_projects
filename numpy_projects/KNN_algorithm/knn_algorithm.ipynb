{
 "cells": [
  {
   "cell_type": "markdown",
   "metadata": {},
   "source": [
    "k-NN (k-Nearest Neighbors) – algorytm k-najbliższych sąsiadów:\n",
    "\n",
    "-> Algorytm uczenia maszynowego do klasyfikacji, który przewiduje klasę nowej próbki na podstawie k najbliższych obserwacji ze zbioru uczącego.\n",
    "\n",
    "-> Metoda train zapisuje przypadki uczące, przyjmując wektory cech (dane) oraz klasy (etykiety).\n",
    "\n",
    "Wielokrotne wywołanie train powinno rozszerzać zbiór uczący, a nie go nadpisywać.\n",
    "\n",
    "-> Metoda predict przyjmuje wektor (lub zbiór wektorów, jako dane) i zwraca odpowiedź klasyfikatora.\n",
    "\n",
    "Działanie algorytmu:\n",
    "\n",
    "    1. Oblicza odległości nowej próbki od wszystkich przykładów w zbiorze uczącym.\n",
    "    2. Wybiera k najbliższych sąsiadów.\n",
    "    3. Przypisuje klasę, która występuje najczęściej wśród tych k sąsiadów.\n",
    "\n",
    "Mierzenie odległości jest możliwe z użyciem metryki: euklidesowej, taksówkowej, maksimum i cosinusowej.\n",
    "\n",
    "-> Algorytm nie wymaga trenowania w klasycznym sensie – jedynie zapamiętuje dane uczące i wykorzystuje je do klasyfikacji w czasie rzeczywistym."
   ]
  },
  {
   "cell_type": "code",
   "execution_count": 1,
   "metadata": {},
   "outputs": [],
   "source": [
    "import csv\n",
    "import numpy as np\n",
    "from enum import Enum\n",
    "\n",
    "class DistanceMetric(Enum):\n",
    "    EUCLIDEAN = 'euclidean'\n",
    "    MANHATTAN = 'manhattan'\n",
    "    CHEBYSHEV = 'chebyshev'\n",
    "    COSINE = 'cosine'\n",
    "\n",
    "class KNNClassifier:\n",
    "    def __init__(self, k=3, distance_metric=DistanceMetric.EUCLIDEAN):\n",
    "        if not isinstance(distance_metric, DistanceMetric):\n",
    "            raise ValueError(f\"Invalid distance metric. Choose from: {list(DistanceMetric)}\")\n",
    "        \n",
    "        self.k = k\n",
    "        self.distance_metric = distance_metric\n",
    "        self.x_train = np.empty((0,))\n",
    "        self.y_train = np.empty((0,), dtype=int)\n",
    "\n",
    "    def train(self, x, y):\n",
    "        x, y = np.array(x), np.array(y)\n",
    "        if self.x_train.size == 0:\n",
    "            self.x_train, self.y_train = x, y\n",
    "        else:\n",
    "            self.x_train = np.vstack((self.x_train, x))\n",
    "            self.y_train = np.hstack((self.y_train, y))\n",
    "\n",
    "    def _compute_distances(self, x):\n",
    "        if self.distance_metric == DistanceMetric.EUCLIDEAN:\n",
    "            return np.linalg.norm(self.x_train - x, axis=1)\n",
    "        \n",
    "        elif self.distance_metric == DistanceMetric.MANHATTAN:\n",
    "            return np.sum(np.abs(self.x_train - x), axis=1)\n",
    "        \n",
    "        elif self.distance_metric == DistanceMetric.CHEBYSHEV:\n",
    "            return np.max(np.abs(self.x_train - x), axis=1)\n",
    "        \n",
    "        elif self.distance_metric == DistanceMetric.COSINE:\n",
    "            x_norm = np.linalg.norm(x)\n",
    "            train_norms = np.linalg.norm(self.x_train, axis=1)\n",
    "            ratio = np.dot(self.x_train, x) / (train_norms * x_norm)\n",
    "            return 1 - ratio\n",
    "        \n",
    "        else:\n",
    "            raise ValueError(\"Unsupported distance metric\")\n",
    "\n",
    "    def predict(self, X):\n",
    "        X = np.atleast_2d(X)  # Zapewniamy, że X zawsze jest 2D\n",
    "        if X.shape[1] != self.x_train.shape[1]:\n",
    "            raise ValueError(f\"Input dimension {X.shape[1]} does not match training data dimension {self.x_train.shape[1]}\")\n",
    "\n",
    "        predictions = []\n",
    "        for x in X:\n",
    "            distances = self._compute_distances(x)\n",
    "            k_nearest_index = np.argpartition(distances, self.k)[:self.k]\n",
    "            labels = self.y_train[k_nearest_index]\n",
    "            predictions.append(np.argmax(np.bincount(labels)))\n",
    "\n",
    "        return np.array(predictions) if len(predictions) > 1 else predictions[0]"
   ]
  },
  {
   "cell_type": "code",
   "execution_count": 2,
   "metadata": {},
   "outputs": [],
   "source": [
    "def open_csv(file_path):\n",
    "    x, y = [], []\n",
    "    with open(file_path, 'r') as csvfile:\n",
    "        csvreader = csv.reader(csvfile, delimiter=' ')\n",
    "        for row in csvreader:\n",
    "            x.append(list(map(float, row[:-1])))\n",
    "            y.append(int(row[-1]))\n",
    "    return np.array(x), np.array(y)"
   ]
  },
  {
   "cell_type": "code",
   "execution_count": 3,
   "metadata": {},
   "outputs": [
    {
     "name": "stdout",
     "output_type": "stream",
     "text": [
      "[[0. 0.]\n",
      " [0. 1.]\n",
      " [1. 1.]\n",
      " [1. 0.]]\n",
      "[0 1 2 1]\n",
      "Prediction for new data [1. 2.] is 1\n",
      "Prediction for new data [14. 23.] is 1\n"
     ]
    }
   ],
   "source": [
    "x, y = open_csv('dataset0.csv')       \n",
    "print(x)\n",
    "print(y)\n",
    "# Testowanie klasyfikatora\n",
    "knn = KNNClassifier()\n",
    "knn.train(x, y)\n",
    "new_data = np.array([1.0,2.0])\n",
    "prediction = knn.predict(new_data)\n",
    "print(f'Prediction for new data {new_data} is {prediction}') # 1\n",
    "\n",
    "knn.train(np.array([1., 2.]), np.array(1))\n",
    "new_data = np.array([14.0, 23.0])\n",
    "prediction = knn.predict(new_data)\n",
    "print(f'Prediction for new data {new_data} is {prediction}') # 1"
   ]
  },
  {
   "cell_type": "code",
   "execution_count": 4,
   "metadata": {},
   "outputs": [
    {
     "name": "stdout",
     "output_type": "stream",
     "text": [
      "Prediction for new data [[1. 2.]\n",
      " [1. 3.]] is [1 1]\n"
     ]
    }
   ],
   "source": [
    "x, y = open_csv('dataset0.csv')       \n",
    "# Testowanie klasyfikatora\n",
    "knn = KNNClassifier()\n",
    "knn.train(x, y)\n",
    "new_data = np.array([[1.0,2.0], [1.0,3.0]])\n",
    "prediction = knn.predict(new_data)\n",
    "print(f'Prediction for new data {new_data} is {prediction}') # 1 1"
   ]
  },
  {
   "cell_type": "code",
   "execution_count": 5,
   "metadata": {},
   "outputs": [
    {
     "name": "stdout",
     "output_type": "stream",
     "text": [
      "Prediction: 1\n",
      "Prediction: 0\n"
     ]
    }
   ],
   "source": [
    "x, y = open_csv('dataset1.csv')\n",
    "# Testowanie klasyfikatora\n",
    "knn = KNNClassifier(distance_metric=DistanceMetric.CHEBYSHEV)\n",
    "knn.train(x, y)\n",
    "prediction = knn.predict(np.array([121.314024, 222.530757]))\n",
    "print(f'Prediction: {prediction}') # 1\n",
    "\n",
    "knn.train(np.array([121.314024, 222.530757]), np.array(1))\n",
    "prediction = knn.predict(np.array([0.45540533, 6.420678]))\n",
    "print(f'Prediction: {prediction}') # 0"
   ]
  },
  {
   "cell_type": "code",
   "execution_count": 6,
   "metadata": {},
   "outputs": [
    {
     "name": "stdout",
     "output_type": "stream",
     "text": [
      "[[15.73094725  7.18528284 64.41038317 24.66428237]\n",
      " [83.44155279 63.01982687 75.83614336 67.61127283]\n",
      " [99.39100517  9.61315971 14.93347999 72.15498409]\n",
      " ...\n",
      " [87.97905359 25.80428991 22.24284486 88.04449276]\n",
      " [80.20238287 21.64052602 41.48732363  3.6147353 ]\n",
      " [ 0.62492591 99.65803104 81.97150773 77.52295713]]\n",
      "[0 1 1 ... 1 0 0]\n",
      "4\n",
      "Prediction: 1\n",
      "Prediction: 0\n"
     ]
    }
   ],
   "source": [
    "x, y = open_csv('dataset2.csv')\n",
    "print(x)\n",
    "print(y)\n",
    "print(np.array([121.314024, 222.530757, 23.3578, 87.4542]).size)\n",
    "# Testowanie klasyfikatora\n",
    "knn = KNNClassifier(distance_metric=DistanceMetric.MANHATTAN)\n",
    "knn.train(x, y)\n",
    "prediction = knn.predict(np.array([121.314024, 222.530757, 23.3578, 87.4542]))\n",
    "print(f'Prediction: {prediction}') # 1\n",
    "\n",
    "knn.train(np.array([121.314024, 222.530757, 23.3578, 87.4542]), np.array(1))\n",
    "prediction = knn.predict(np.array([0.45540533, 6.420678, 86.3435, 2.3546]))\n",
    "print(f'Prediction: {prediction}') # 0"
   ]
  },
  {
   "cell_type": "code",
   "execution_count": 7,
   "metadata": {},
   "outputs": [
    {
     "name": "stdout",
     "output_type": "stream",
     "text": [
      "Prediction: 1\n",
      "Prediction: 0\n"
     ]
    }
   ],
   "source": [
    "x, y = open_csv('dataset2.csv')\n",
    "# Testowanie klasyfikatora\n",
    "knn = KNNClassifier(distance_metric=DistanceMetric.EUCLIDEAN, k=5)\n",
    "knn.train(x, y)\n",
    "prediction = knn.predict(np.array([121.314024, 222.530757, 23.3578, 87.4542]))\n",
    "print(f'Prediction: {prediction}') # 1\n",
    "\n",
    "knn.train(np.array([121.314024, 222.530757, 23.3578, 87.4542]), np.array(1))\n",
    "prediction = knn.predict(np.array([0.45540533, 6.420678, 86.3435, 2.3546]))\n",
    "print(f'Prediction: {prediction}') # 0"
   ]
  }
 ],
 "metadata": {
  "kernelspec": {
   "display_name": "base",
   "language": "python",
   "name": "python3"
  },
  "language_info": {
   "codemirror_mode": {
    "name": "ipython",
    "version": 3
   },
   "file_extension": ".py",
   "mimetype": "text/x-python",
   "name": "python",
   "nbconvert_exporter": "python",
   "pygments_lexer": "ipython3",
   "version": "3.10.9"
  }
 },
 "nbformat": 4,
 "nbformat_minor": 2
}
