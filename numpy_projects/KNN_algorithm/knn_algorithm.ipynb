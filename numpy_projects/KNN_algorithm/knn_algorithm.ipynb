{
 "cells": [
  {
   "cell_type": "code",
   "execution_count": null,
   "metadata": {},
   "outputs": [],
   "source": [
    "# Zaimplementować algorytm klasyfikacji binarnej kNN (k najbliższych sąsiadów).\n",
    "# Należy udostępnić metody train i predict.\n",
    "# Train buduje bazę przypadków uczących (przyjmuje przynajmniej wektory i prawidłowe odpowiedzi).\n",
    "# Wielokrotne wywołanie metody train powinno rozszerzać zbiór przypadków uczących.\n",
    "# Metoda predict przyjmuje wektor (opcjonalnie: większą liczbę wektorów naraz) i zwraca odpowiedź klasyfikatora.\n",
    "# Należy umożliwić wybór jednej z czterech funkcji odległości: euklidesowej, taksówkowej, maksimum i cosinusowej.\n",
    "\n",
    "# Porównać wyniki na podanych zbiorach dla przynajmniej 3 wartości k (ostatnia kolumna zawiera etykietę).\n",
    "\n",
    "# Pomocna może być metoda np.array.partition.\n",
    "# Należy użyć biblioteki numpy.\n",
    "\n",
    "# Termin: wt. 17.12.2024 08:00\n",
    "\n",
    "import csv\n",
    "import numpy as np\n",
    "from enum import Enum\n",
    "\n",
    "class DistanceMetric(Enum):\n",
    "    EUCLIDEAN = 'euclidean'\n",
    "    MANHATTAN = 'manhattan'\n",
    "    CHEBYSHEV = 'chebyshev'\n",
    "    COSINE = 'cosine'\n",
    "\n",
    "class KNNClassifier:\n",
    "    def __init__(self, k=3, distance_metric=DistanceMetric.EUCLIDEAN):\n",
    "        if not isinstance(distance_metric, DistanceMetric):\n",
    "            raise ValueError(f\"Invalid distance metric. Choose from: {list(DistanceMetric)}\")\n",
    "        \n",
    "        self.k = k\n",
    "        self.distance_metric = distance_metric\n",
    "        self.x_train = np.empty((0,))\n",
    "        self.y_train = np.empty((0,), dtype=int)\n",
    "\n",
    "    def train(self, x, y):\n",
    "        x, y = np.array(x), np.array(y)\n",
    "        if self.x_train.size == 0:\n",
    "            self.x_train, self.y_train = x, y\n",
    "        else:\n",
    "            self.x_train = np.vstack((self.x_train, x))\n",
    "            self.y_train = np.hstack((self.y_train, y))\n",
    "\n",
    "    def _compute_distances(self, x):\n",
    "        if self.distance_metric == DistanceMetric.EUCLIDEAN:\n",
    "            return np.linalg.norm(self.x_train - x, axis=1)\n",
    "        \n",
    "        elif self.distance_metric == DistanceMetric.MANHATTAN:\n",
    "            return np.sum(np.abs(self.x_train - x), axis=1)\n",
    "        \n",
    "        elif self.distance_metric == DistanceMetric.CHEBYSHEV:\n",
    "            return np.max(np.abs(self.x_train - x), axis=1)\n",
    "        \n",
    "        elif self.distance_metric == DistanceMetric.COSINE:\n",
    "            x_norm = np.linalg.norm(x)\n",
    "            train_norms = np.linalg.norm(self.x_train, axis=1)\n",
    "            ratio = np.dot(self.x_train, x) / (train_norms * x_norm)\n",
    "            return 1 - ratio\n",
    "        \n",
    "        else:\n",
    "            raise ValueError(\"Unsupported distance metric\")\n",
    "\n",
    "    def predict(self, x):\n",
    "        if x.shape[0] != self.x_train.shape[1]:\n",
    "            raise ValueError(f\"Input vector dimension {x.shape[0]} does not match training data dimension {self.x_train.shape[1]}\")\n",
    "        \n",
    "        distances = self._compute_distances(x)\n",
    "        k_nearest_index = np.argpartition(distances[:, 0], self.k)[:self.k]\n",
    "        labels = self.y_train[k_nearest_index]\n",
    "        prediction = np.argmax(np.bincount(labels))\n",
    "        return np.array(prediction)"
   ]
  },
  {
   "cell_type": "code",
   "execution_count": 2,
   "metadata": {},
   "outputs": [],
   "source": [
    "def open_csv(file_path):\n",
    "    x, y = [], []\n",
    "    with open(file_path, 'r') as csvfile:\n",
    "        csvreader = csv.reader(csvfile, delimiter=' ')\n",
    "        for row in csvreader:\n",
    "            x.append(list(map(float, row[:-1])))\n",
    "            y.append(int(row[-1]))\n",
    "    return np.array(x), np.array(y)"
   ]
  },
  {
   "cell_type": "code",
   "execution_count": 3,
   "metadata": {},
   "outputs": [
    {
     "name": "stdout",
     "output_type": "stream",
     "text": [
      "[[0. 0.]\n",
      " [0. 1.]\n",
      " [1. 1.]\n",
      " [1. 0.]]\n",
      "[0 1 2 1]\n"
     ]
    }
   ],
   "source": [
    "x, y = open_csv('C:/moje pliki/dokumenty i pliki/studia/magisterka_Uczenie_Maszynowe/Jezyk Python/jezyk_python_lab/dataset0.csv')       \n",
    "print(x)\n",
    "print(y)\n",
    "# # Testowanie klasyfikatora\n",
    "# knn = KNNClassifier(distance_metric='euclidean')\n",
    "# knn.train(x, y)\n",
    "# prediction = knn.predict(np.array([1.0, 2.0]))\n",
    "# print(f'Prediction: {prediction}') # 1\n",
    "\n",
    "# knn.train(np.array([1., 2.]), np.array(1))\n",
    "# prediction = knn.predict(np.array([14.0, 23.0]))\n",
    "# print(f'Prediction: {prediction}') # 1"
   ]
  },
  {
   "cell_type": "code",
   "execution_count": 12,
   "metadata": {},
   "outputs": [
    {
     "name": "stdout",
     "output_type": "stream",
     "text": [
      "[[0. 0.]\n",
      " [0. 1.]\n",
      " [1. 1.]\n",
      " [1. 0.]]\n",
      "[1.         1.41421356 1.         0.        ]\n"
     ]
    }
   ],
   "source": [
    "knn = KNNClassifier()\n",
    "knn.train(x, y)\n",
    "print(knn.x_train)\n",
    "distances = knn._compute_distances(np.array([1,0]))\n",
    "print(distances)"
   ]
  },
  {
   "cell_type": "code",
   "execution_count": 13,
   "metadata": {},
   "outputs": [
    {
     "data": {
      "text/plain": [
       "(4,)"
      ]
     },
     "execution_count": 13,
     "metadata": {},
     "output_type": "execute_result"
    }
   ],
   "source": [
    "distances.shape"
   ]
  },
  {
   "cell_type": "code",
   "execution_count": 15,
   "metadata": {},
   "outputs": [
    {
     "data": {
      "text/plain": [
       "(4, 2)"
      ]
     },
     "execution_count": 15,
     "metadata": {},
     "output_type": "execute_result"
    }
   ],
   "source": [
    "knn.x_train.shape"
   ]
  },
  {
   "cell_type": "code",
   "execution_count": 21,
   "metadata": {},
   "outputs": [
    {
     "name": "stdout",
     "output_type": "stream",
     "text": [
      "[0 3 2]\n"
     ]
    }
   ],
   "source": [
    "k_nearest = np.argpartition(distances, knn.k)[:knn.k]\n",
    "print(k_nearest)"
   ]
  },
  {
   "cell_type": "code",
   "execution_count": null,
   "metadata": {},
   "outputs": [
    {
     "data": {
      "text/plain": [
       "array([0, 1, 2, 1])"
      ]
     },
     "execution_count": 25,
     "metadata": {},
     "output_type": "execute_result"
    }
   ],
   "source": [
    "knn.y_train"
   ]
  },
  {
   "cell_type": "code",
   "execution_count": 29,
   "metadata": {},
   "outputs": [
    {
     "data": {
      "text/plain": [
       "array([0, 1, 2])"
      ]
     },
     "execution_count": 29,
     "metadata": {},
     "output_type": "execute_result"
    }
   ],
   "source": [
    "labels = knn.y_train[k_nearest]\n",
    "labels"
   ]
  },
  {
   "cell_type": "code",
   "execution_count": 36,
   "metadata": {},
   "outputs": [
    {
     "data": {
      "text/plain": [
       "1"
      ]
     },
     "execution_count": 36,
     "metadata": {},
     "output_type": "execute_result"
    }
   ],
   "source": [
    "np.argmax(np.bincount([1,1,6,3,3,0]))"
   ]
  },
  {
   "cell_type": "code",
   "execution_count": 37,
   "metadata": {},
   "outputs": [
    {
     "data": {
      "text/plain": [
       "(array([0, 1, 3, 6]), array([1, 2, 2, 1], dtype=int64))"
      ]
     },
     "execution_count": 37,
     "metadata": {},
     "output_type": "execute_result"
    }
   ],
   "source": [
    "np.unique([1,1,6,3,3,0], return_counts=True)"
   ]
  },
  {
   "cell_type": "code",
   "execution_count": null,
   "metadata": {},
   "outputs": [],
   "source": [
    "x, y = open_csv('C:/moje pliki/dokumenty i pliki/studia/magisterka_Uczenie_Maszynowe/Jezyk Python/jezyk_python_lab/dataset1.csv')\n",
    "# Testowanie klasyfikatora\n",
    "knn = KNNClassifier(distance_metric='chebyshev')\n",
    "knn.train(x, y)\n",
    "prediction = knn.predict(np.array([121.314024, 222.530757]), k = 5)\n",
    "print(f'Prediction: {prediction}') # 1\n",
    "\n",
    "knn.train(np.array([121.314024, 222.530757]), np.array(1))\n",
    "prediction = knn.predict(np.array([0.45540533, 6.420678]))\n",
    "print(f'Prediction: {prediction}') # 0"
   ]
  },
  {
   "cell_type": "code",
   "execution_count": null,
   "metadata": {},
   "outputs": [],
   "source": [
    "\n",
    "\n",
    "\n",
    "#############################################################################################################################################\n",
    "\n",
    "x, y = open_csv('C:/moje pliki/dokumenty i pliki/studia/magisterka_Uczenie_Maszynowe/Jezyk Python/jezyk_python_lab/dataset2.csv')\n",
    "# Testowanie klasyfikatora\n",
    "knn = KNNClassifier(distance_metric='manhattan')\n",
    "knn.train(x, y)\n",
    "prediction = knn.predict(np.array([121.314024, 222.530757, 23.3578, 87.4542]))\n",
    "print(f'Prediction: {prediction}') # 1\n",
    "\n",
    "knn.train(np.array([121.314024, 222.530757, 23.3578, 87.4542]), np.array(1))\n",
    "prediction = knn.predict(np.array([0.45540533, 6.420678, 86.3435, 2.3546]))\n",
    "print(f'Prediction: {prediction}') # 0\n",
    "\n",
    "x, y = open_csv('C:/moje pliki/dokumenty i pliki/studia/magisterka_Uczenie_Maszynowe/Jezyk Python/jezyk_python_lab/dataset2.csv')\n",
    "# Testowanie klasyfikatora\n",
    "knn = KNNClassifier(distance_metric='euclidean')\n",
    "knn.train(x, y)\n",
    "prediction = knn.predict(np.array([121.314024, 222.530757, 23.3578, 87.4542]))\n",
    "print(f'Prediction: {prediction}') # 1\n",
    "\n",
    "knn.train(np.array([121.314024, 222.530757, 23.3578, 87.4542]), np.array(1))\n",
    "prediction = knn.predict(np.array([0.45540533, 6.420678, 86.3435, 2.3546]))\n",
    "print(f'Prediction: {prediction}') # 0\n",
    "\n"
   ]
  },
  {
   "cell_type": "code",
   "execution_count": null,
   "metadata": {},
   "outputs": [],
   "source": [
    "#############################################################################################################################################\n",
    "# Sprawdzenie wyłapywania wyjątków\n",
    "\n",
    "x, y = open_csv('C:/moje pliki/dokumenty i pliki/studia/magisterka_Uczenie_Maszynowe/Jezyk Python/jezyk_python_lab/dataset0.csv')       \n",
    "knn = KNNClassifier(distance_metric='eucidean')\n",
    "knn.train(x, y)\n",
    "prediction = knn.predict(np.array([1.0, 2.0]))\n",
    "print(f'Prediction: {prediction}')\n",
    "\n",
    "x, y = open_csv('C:/moje pliki/dokumenty i pliki/studia/magisterka_Uczenie_Maszynowe/Jezyk Python/jezyk_python_lab/dataset0.csv')       \n",
    "knn = KNNClassifier(distance_metric='eucidean')\n",
    "knn.train(x, y)\n",
    "knn.train(np.array([1., 2., 3., 4.]), np.array(1))\n",
    "prediction = knn.predict(np.array([14.0, 23.0, 2.0]))\n",
    "print(f'Prediction: {prediction}')"
   ]
  }
 ],
 "metadata": {
  "kernelspec": {
   "display_name": "base",
   "language": "python",
   "name": "python3"
  },
  "language_info": {
   "codemirror_mode": {
    "name": "ipython",
    "version": 3
   },
   "file_extension": ".py",
   "mimetype": "text/x-python",
   "name": "python",
   "nbconvert_exporter": "python",
   "pygments_lexer": "ipython3",
   "version": "3.10.9"
  }
 },
 "nbformat": 4,
 "nbformat_minor": 2
}
